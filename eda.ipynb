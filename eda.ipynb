{
 "cells": [
  {
   "cell_type": "code",
   "execution_count": null,
   "id": "3785171d",
   "metadata": {},
   "outputs": [],
   "source": [
    "import pandas as pd  # Import the pandas library for data manipulation and analysis\n",
    "df = pd.read_csv ('train.csv') # Load the dataset into a pandas dataframe\n",
    "df.info() # Display information about the dataframe, including data types and non-null counts\n",
    "df.isnull().sum() # Check for missing values in each column of the dataframe\n",
    "\n",
    "df.head(10) # Display the first 10 rows of the dataframe\n",
    "colunas_numericas = df.select_dtypes(include=['int64', 'float64']).columns # Select columns with numeric data types\n",
    "print(\"colunas numericas: \\n\", colunas_numericas)\n",
    "\n",
    "colunas_categoricas = df.select_dtypes(include=['object']).columns # Select columns with categorical data types\n",
    "print(\"\\ncolunas categoricas: \\n\", colunas_categoricas)"
   ]
  },
  {
   "cell_type": "code",
   "execution_count": null,
   "id": "7018f87f",
   "metadata": {},
   "outputs": [],
   "source": [
    "import seaborn as sns # Import the seaborn library for data visualization\n",
    "import matplotlib.pyplot as plt # Import the matplotlib library for plotting\n",
    "import pandas as pd \n",
    "\n",
    "\n",
    "df.dtypes [df.dtypes == 'object'] # Display the data types of columns that are of type 'object' (categorical)\n",
    "df_numerico = df.select_dtypes(include=['int64', 'float64']) # Create a new dataframe with only numeric columns\n",
    "\n",
    "correlacao = df_numerico.corr() # Calculate the correlation matrix for the numeric columns in the dataframe\n",
    "\n",
    "plt.figure(figsize=(15, 8)) # Set the figure size for the plot\n",
    "sns.heatmap(correlacao [['SalePrice']].sort_values(by='SalePrice', ascending=False), annot=True, cmap='coolwarm') # Create a heatmap to visualize the correlation between 'SalePrice' and other numeric columns\n",
    "plt.title('Mapa de calor da correlação') # Set the title of the heatmap\n",
    "plt.show() # Display the heatmap\n"
   ]
  },
  {
   "cell_type": "code",
   "execution_count": null,
   "id": "befb23e2",
   "metadata": {},
   "outputs": [],
   "source": [
    "# Histograma para ver a distribuição dos preços\n",
    "plt.figure(figsize=(8, 5))\n",
    "sns.histplot(df['SalePrice'], kde=True, color='blue')\n",
    "plt.title('Distribuição dos Preços das Casas')\n",
    "plt.xlabel('Preço')\n",
    "plt.ylabel('Frequência')\n",
    "plt.show()\n"
   ]
  },
  {
   "cell_type": "code",
   "execution_count": null,
   "id": "e7e7a862",
   "metadata": {},
   "outputs": [],
   "source": [
    "valores_nnulos = df.isnull().sum().sort_values(ascending=False) # Check for missing values in the dataframe and sort them in descending order\n",
    "valores_nnulos = valores_nnulos[valores_nnulos > 0] # Filter the dataframe to keep only columns with missing values\n",
    "print(valores_nnulos) # Display the columns with missing values and their countsq"
   ]
  },
  {
   "cell_type": "code",
   "execution_count": null,
   "id": "5e5b858f",
   "metadata": {},
   "outputs": [],
   "source": [
    "df['PoolQC'].fillna('No Pool', inplace=True) # Fill missing values in the 'poolQC' column with 'No Pool'\n",
    "df['MiscFeature'].fillna('None', inplace=True) # Fill missing values in the 'MiscFeature' column with None\n",
    "df['Alley'].fillna('No Alley', inplace=True) # Fill missing values in the 'Alley' column with 'No Alley'\n",
    "df['Fence'].fillna('No Fence', inplace=True) # Fill missing values in the 'Fence' column with 'No Fence'\n",
    "df['MasVnrType'].fillna('none', inplace=True) # Fill missing values in the 'MasVnrType' column with 'none'\n",
    "df['FireplaceQu'].fillna('No Fireplace', inplace=True) # Fill missing values in the 'FireplaceQu' column with 'No Fireplace'\n",
    "\n",
    "df['GarageQual'].fillna('No Garage', inplace=True) # Fill missing values in the 'GarageQual' column with 'No Garage'\n",
    "df['GarageFinish'].fillna('No Garage', inplace=True) # Fill missing values in the 'GarageFinish' column with 'No Garage'\n",
    "df['GarageType'].fillna('No garage',inplace=True) # Fill missing values in the 'GarageType' column with 'No garage'\n",
    "df['GarageCond'].fillna('No Garage', inplace=True) # Fill missing values in the 'GarageCond' column with 'No Garage'\n",
    "\n",
    "\n",
    "df['BsmtFinType2'].fillna('No Basement', inplace=True) # Fill missing values in the 'BsmtFinType2' column with 'No Basement'\n",
    "df['BsmtExposure'].fillna('No Basement', inplace=True) # Fill missing values in the 'BsmtExposure' column with 'No Basement'\n",
    "df['BsmtCond'].fillna('No Basement', inplace=True) # Fill missing values in the 'BsmtCond' column with 'No Basement'    \n",
    "df['BsmtQual'].fillna('No Basement', inplace=True) # Fill missing values in the 'BsmtQual' column with 'No Basement'\n",
    "df['BsmtFinType1'].fillna('No Basement', inplace=True) # Fill missing values in the 'BsmtFinType1' column with 'No Basement'\n"
   ]
  },
  {
   "cell_type": "code",
   "execution_count": null,
   "id": "52c0ba20",
   "metadata": {},
   "outputs": [],
   "source": [
    "df['LotFrontage'].fillna(df['LotFrontage'].mean(), inplace=True) # Fill missing values in the 'LotFrontage' column with the mean of that column\n",
    "df['MasVnrArea'].fillna(0, inplace=True) # Fill missing values in the 'MasVnrArea' column with 0\n",
    "df['GarageYrBlt'].fillna(0, inplace=True) # Fill missing values in the 'GarageYrBlt' column with 0\n",
    "df['Electrical'].fillna(df['Electrical'].mode()[0], inplace=True) # Fill missing values in the 'Electrical' column with the mode of that column"
   ]
  },
  {
   "cell_type": "code",
   "execution_count": null,
   "id": "1ce19407",
   "metadata": {},
   "outputs": [],
   "source": [
    "print(df.isnull().sum().sum())"
   ]
  },
  {
   "cell_type": "code",
   "execution_count": null,
   "id": "222fd683",
   "metadata": {},
   "outputs": [],
   "source": [
    "import matplotlib.pyplot as plt # Import the matplotlib library for plotting\n",
    "import seaborn as sns # Import the seaborn library for data visualization\n",
    "\n",
    "variaveis_importantes  = ['GrLivArea', 'TotalBsmtSF', 'GarageArea', '1stFlrSF', 'LotFrontage']  # List of important variables to analyze\n",
    "\n",
    "plt.figure(figsize=(15, 8)) # Set the figure size for the plot\n",
    "for i, coluna in enumerate(variaveis_importantes ,1): # Loop through the important variables and their indices\n",
    "    plt.subplot (2, 3, i) # Create a subplot for each variable\n",
    "    sns.boxplot(x=df[coluna])\n",
    "    plt.title(f'boxplot de {coluna}')   # Set the title of the boxplot\n",
    "plt.tight_layout() # Adjust the layout of the subplots\n",
    "plt.show() # Display the boxplots\n"
   ]
  },
  {
   "cell_type": "code",
   "execution_count": null,
   "id": "d6b5666c",
   "metadata": {},
   "outputs": [],
   "source": [
    "outliers= df [(df ['GrLivArea'] > 4000) & (df ['SalePrice'] < 300000)] # Identify outliers based on the 'GrLivArea' and 'SalePrice' columns\n",
    "print (\"Outliers: \\n\") # Display the identified outliers\n",
    "display(outliers) # Display the outliers in a more readable format\n",
    "\n",
    "plt.figure(figsize=(15, 8)) # Set the figure size for the plot\n",
    "sns.scatterplot(data=df, x = 'GrLivArea', y='SalePrice', color = 'blue', label = 'Normal') # Plot the normal data points\n",
    "sns.scatterplot(data=outliers, x = 'GrLivArea', y='SalePrice', color = 'red', label = 'Outliers') # Plot the outliers in a different color\n",
    "plt.title('GrLivArea vs SalePrice') # Set the title of the scatter plot\n",
    "plt.show() # Display the scatter plot\n",
    " "
   ]
  },
  {
   "cell_type": "markdown",
   "id": "a69741fd",
   "metadata": {},
   "source": [
    "\n",
    "**Aqui eu quis ver os outliers em todas as colunas influentes para ver o quanto outliers estao sendo relevantes**"
   ]
  },
  {
   "cell_type": "code",
   "execution_count": null,
   "id": "0f9a21f6",
   "metadata": {},
   "outputs": [],
   "source": [
    "import seaborn as sns  # Import the seaborn library for data visualization\n",
    "import matplotlib.pyplot as plt  # Import the matplotlib library for plotting\n",
    "\n",
    "# Lista das colunas que queremos analisar\n",
    "colunas1 = ['GrLivArea', 'TotalBsmtSF', 'GarageArea', '1stFlrSF', 'LotFrontage', \n",
    "            'OverallQual', 'GarageCars', 'FullBath', 'YearBuilt', 'TotRmsAbvGrd']\n",
    "\n",
    "# Definindo o tamanho da figura e a quantidade de linhas e colunas\n",
    "plt.figure(figsize=(15, 20)) \n",
    "\n",
    "# Loop para criar os subplots\n",
    "for i, coluna in enumerate(colunas1, 1):\n",
    "    plt.subplot(5, 2, i)  # Organiza em 5 linhas e 2 colunas\n",
    "    \n",
    "    # Gráfico de dispersão dos dados normais\n",
    "    sns.scatterplot(data=df, x=coluna, y='SalePrice', color='blue', label='Normal')\n",
    "    \n",
    "    # Identificação dos outliers com base no 95º percentil\n",
    "    outliers_coluna = df[(df[coluna] > df[coluna].quantile(0.95)) & (df['SalePrice'] < 300000)]\n",
    "    \n",
    "    # Gráfico de dispersão dos outliers\n",
    "    sns.scatterplot(data=outliers_coluna, x=coluna, y='SalePrice', color='red', label='Outliers')\n",
    "    \n",
    "    # Título para cada gráfico\n",
    "    plt.title(f'Outliers em {coluna}')\n",
    "\n",
    "# Ajusta o layout para não sobrepor os gráficos\n",
    "plt.tight_layout()\n",
    "plt.show()\n",
    "display(outliers) # Display the outliers in a more readable format\n"
   ]
  },
  {
   "cell_type": "markdown",
   "id": "316c328c",
   "metadata": {},
   "source": [
    "\n",
    "**Agora quero testar diferentes percentis para ver a diferenca de um para o outro para sabermos com qual vamos trabalhar**\n"
   ]
  },
  {
   "cell_type": "code",
   "execution_count": null,
   "id": "0f83a1e9",
   "metadata": {},
   "outputs": [],
   "source": [
    "import matplotlib.pyplot as plt\n",
    "import seaborn as sns\n",
    "\n",
    "percentis = [0.90, 0.95, 0.99] # Define the percentiles to be used for outlier detection\n",
    "coluna2 = 'GrLivArea' # Define the column to be analyzed for outliers\n",
    "\n",
    "plt.figure(figsize=(15, 8)) # Set the figure size for the plot\n",
    "\n",
    "for i, perc in enumerate(percentis, 1): # Loop through the percentiles and their indices\n",
    "    plt.subplot(1, len(percentis), i) # Create a subplot for each percentile\n",
    "    outliers = df[df[coluna] > df[coluna].quantile(perc)] # Identify outliers based on the specified percentile\n",
    "    sns.scatterplot(data=df, x=coluna2, y='SalePrice', color='blue', label='Normal') # Plot the normal data points\n",
    "    sns.scatterplot(data=outliers, x=coluna2, y='SalePrice', color='red', label='Outliers') # Plot the outliers in a different color\n",
    "    plt.title(f'Outliers em {coluna2} - Percentil {perc}') # Set the title of the scatter plot\n",
    "plt.tight_layout() # Adjust the layout of the subplots\n",
    "plt.show() # Display the scatter plot\n",
    "\n",
    "display(outliers) # Display the outliers in a more readable format"
   ]
  },
  {
   "cell_type": "markdown",
   "id": "8121988d",
   "metadata": {},
   "source": [
    "\n",
    "**Pude observar que 0.95 e um otimo meio termo para continuar para a remocao dos mesmos outliers**"
   ]
  },
  {
   "cell_type": "code",
   "execution_count": null,
   "id": "494aabbd",
   "metadata": {},
   "outputs": [],
   "source": [
    "colunas_categoricas = df.select_dtypes(include=['object']).columns # Select columns with categorical data types\n",
    "print(\"\\ncolunas categoricas: \\n\", colunas_categoricas) # Display the categorical columns\n",
    "# Loop through each categorical column"
   ]
  },
  {
   "cell_type": "code",
   "execution_count": null,
   "id": "2ba842fb",
   "metadata": {},
   "outputs": [],
   "source": [
    "valores_nulos_categoricos = df[colunas_categoricas].isnull().sum() # Check for missing values in the categorical columns\n",
    "print(valores_nulos_categoricos) # Display the missing values in the categorical columns"
   ]
  },
  {
   "cell_type": "code",
   "execution_count": null,
   "id": "96a327c6",
   "metadata": {},
   "outputs": [],
   "source": [
    "for coluna in colunas_categoricas:\n",
    "    print(f\"\\nDistribuição de {coluna}:\") # Print the distribution of each categorical column\n",
    "    display(pd.DataFrame(df[coluna].value_counts()).reset_index().rename(columns={'index': coluna, coluna: 'Contagem'})) # Display the value counts of each categorical column in a readable format\n",
    "display(df.head(25))"
   ]
  },
  {
   "cell_type": "code",
   "execution_count": null,
   "id": "3cfb63df",
   "metadata": {},
   "outputs": [],
   "source": [
    "from sklearn.preprocessing import LabelEncoder # Import the LabelEncoder class from sklearn for encoding categorical variables\n",
    "\n",
    "\n",
    "# Identificando quais colunas são categóricas\n",
    "colunas_categoricas = df.select_dtypes(['object']).columns # Select columns with categorical data types\n",
    "\n",
    "\n",
    "# Aplicando Label Encoding para cada coluna categórica\n",
    "for coluna in colunas_categoricas:\n",
    "    if df[coluna].nunique() <= 10: # Check if the number of unique values is less than or equal to 10\n",
    "        le = LabelEncoder()\n",
    "        df[coluna]=le.fit_transform(df[coluna]) # Apply label encoding to the categorical column\n",
    "        print(f\"Coluna {coluna} transformada com Label Encoding\")\n",
    "    else:\n",
    "        df = pd.get_dummies(df, columns=[coluna], drop_first=True) # Apply one-hot encoding to the categorical column\n",
    "        print(f\"Coluna {coluna} transformada com One-Hot Encoding\")\n",
    "display(df.head(25))\n",
    "\n",
    "\n"
   ]
  },
  {
   "cell_type": "markdown",
   "id": "139da5a3",
   "metadata": {},
   "source": [
    "**⚠️ Ponto de Atenção:\n",
    "Se você usar LabelEncoder para coisas que não têm uma ordem clara (ex.: Cores, Tipos de Casa, Bairros), o modelo pode entender que \"2\" é maior que \"1\", e \"1\" é maior que \"0\", o que não é verdade nesse caso.\n",
    "Já com o One-Hot, isso não acontece, porque cada categoria é independenteeeeeeeee.**"
   ]
  },
  {
   "cell_type": "code",
   "execution_count": null,
   "id": "9bd57fc3",
   "metadata": {},
   "outputs": [],
   "source": [
    "from sklearn.linear_model import LinearRegression # Import the LinearRegression class from sklearn for linear regression\n",
    "from sklearn.model_selection import RandomForestRegressor # Import the RandomForestRegressor class from sklearn for random forest regression\n",
    "from sklearn.model_selection import train_test_split # Import the train_test_split function for splitting the dataset\n",
    "from sklearn.metrics import mean_absolute_error, mean_squared_error, r2_score # Import metrics for model evaluation\n",
    "\n",
    "modelos = {\n",
    "    'Regressao Linear': LinearRegression(), # Define a dictionary of models to be used\n",
    "    'Random Forest': RandomForestRegressor(random_state=42 ), # Add Random Forest model\n",
    "}\n",
    "\n",
    "for nome, modelo in modelos.items (): # Loop through each model in the dictionary\n",
    "    modelo.fit(X_train, y_train) # Fit the model to the training data\n",
    "      \n"
   ]
  },
  {
   "cell_type": "code",
   "execution_count": null,
   "id": "2dba4f4c",
   "metadata": {},
   "outputs": [],
   "source": []
  }
 ],
 "metadata": {
  "kernelspec": {
   "display_name": "Python 3",
   "language": "python",
   "name": "python3"
  },
  "language_info": {
   "codemirror_mode": {
    "name": "ipython",
    "version": 3
   },
   "file_extension": ".py",
   "mimetype": "text/x-python",
   "name": "python",
   "nbconvert_exporter": "python",
   "pygments_lexer": "ipython3",
   "version": "3.13.3"
  }
 },
 "nbformat": 4,
 "nbformat_minor": 5
}
